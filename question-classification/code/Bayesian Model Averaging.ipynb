{
 "cells": [
  {
   "cell_type": "code",
   "execution_count": 1,
   "metadata": {},
   "outputs": [],
   "source": [
    "from transformers import BertTokenizer, BertModel\n",
    "\n",
    "import torch\n",
    "from torch import nn\n",
    "from torch.autograd import Variable\n",
    "import torch.nn.functional as F\n",
    "\n",
    "from dataset import Dataset\n",
    "\n",
    "import sys\n",
    "import numpy as np\n",
    "import matplotlib.pyplot as plt\n",
    "import pickle\n",
    "\n",
    "from CNNText import CNNText"
   ]
  },
  {
   "cell_type": "code",
   "execution_count": 2,
   "metadata": {},
   "outputs": [],
   "source": [
    "kernel_num = 3\n",
    "kernel_sizes = [2, 3, 4]\n",
    "dropout = 0.5\n",
    "\n",
    "model = CNNText(\n",
    "    embed_dim=768,\n",
    "    embed_num=512,\n",
    "    class_num=6,\n",
    "    kernel_num=kernel_num,\n",
    "    kernel_sizes=kernel_sizes,\n",
    "    dropout=dropout\n",
    ").to('cpu')\n",
    "\n",
    "model.load_state_dict(torch.load('../cnn_models/random_seed_2_epoch_75.p', map_location=torch.device('cpu')))\n",
    "\n",
    "processed_experiment_path = \"../data/experiment_pre_processed\"\n",
    "experiment_dataset = Dataset(processed_experiment_path)"
   ]
  },
  {
   "cell_type": "code",
   "execution_count": 5,
   "metadata": {},
   "outputs": [],
   "source": [
    "# predict_class() returns the predicted class of an input vector\n",
    "def predict_class(model, X):\n",
    "    model = model.eval()\n",
    "    outputs = model(Variable(X))\n",
    "    _, pred = torch.max(outputs.data, 1)\n",
    "    model = model.train()\n",
    "    return pred.numpy()\n",
    "\n",
    "# predict() forwards an input T times through the model and returns \n",
    "# the probability distribution to interpret the model uncertainty\n",
    "def predict(model, X, T=1000):\n",
    "    standard_pred = predict_class(model, X)\n",
    "    y1 = []\n",
    "    y2 = []\n",
    "    for _ in range(T):\n",
    "        _y1 = model(Variable(X))\n",
    "        _y2 = F.softmax(_y1, dim=1)\n",
    "        y1.append(_y1.data.numpy())\n",
    "        y2.append(_y2.data.numpy())\n",
    "    return standard_pred, np.array(y1), np.array(y2)"
   ]
  },
  {
   "cell_type": "code",
   "execution_count": 6,
   "metadata": {},
   "outputs": [
    {
     "name": "stdout",
     "output_type": "stream",
     "text": [
      "Predictions: [2 2 2 2 2]\n"
     ]
    }
   ],
   "source": [
    "# In this cell the experiment dataset is forwarded through the network and the results are\n",
    "# stored and printed before they can be plotted\n",
    "x_tensor = torch.empty((1,512,768), dtype = torch.float64)\n",
    "for i in range(0, len(experiment_dataset)):\n",
    "    x, y = experiment_dataset[i]\n",
    "    x_tensor = torch.cat((x_tensor, x), dim = 0)\n",
    "\n",
    "sentence_mods = len(experiment_dataset)+1\n",
    "indices = torch.LongTensor(range(1, sentence_mods))\n",
    "x_tensor = x_tensor.index_select(0, indices)\n",
    "\n",
    "y1_pred, y1_si, y1_so = predict(model, x_tensor.float().to('cpu'))\n",
    "\n",
    "print('Predictions: {}'.format(y1_pred))"
   ]
  },
  {
   "cell_type": "code",
   "execution_count": 7,
   "metadata": {},
   "outputs": [
    {
     "data": {
      "image/png": "[encoded data removed]",
      "text/plain": [
       "<Figure size 504x504 with 2 Axes>"
      ]
     },
     "metadata": {
      "needs_background": "light"
     },
     "output_type": "display_data"
    }
   ],
   "source": [
    "# Here we plot the returned probability distributions of an input forwarded through the network\n",
    "# for the 3 most relevant classes. These should be manually selected.\n",
    "plt.figure(figsize=(7, 7))\n",
    "plt.subplot(2, 1, 1)\n",
    "plt.xlabel('question permutation')\n",
    "plt.ylabel('logit value')\n",
    "plt.scatter(np.tile(np.arange(1, sentence_mods), y1_si.shape[0]), y1_si[:, :, 2].flatten(), \\\n",
    "            color='g', marker='_', linewidth=None, alpha=1, label='Description');\n",
    "plt.scatter(np.tile(np.arange(1, sentence_mods), y1_si.shape[0]), y1_si[:, :, 1].flatten(), \\\n",
    "            color='r', marker='_', linewidth=None, alpha=1, label='Entity');\n",
    "plt.scatter(np.tile(np.arange(1, sentence_mods), y1_si.shape[0]), y1_si[:, :, 5].flatten(), \\\n",
    "            color='b', marker='_', linewidth=None, alpha=1, label='Number');\n",
    "plt.title('Softmax input scatter');\n",
    "plt.legend(bbox_to_anchor=(1.05, 1))\n",
    "\n",
    "\n",
    "plt.subplot(2, 1, 2)\n",
    "plt.xlabel('question permutation')\n",
    "plt.ylabel('softmax value')\n",
    "plt.scatter(np.tile(np.arange(1, sentence_mods), y1_so.shape[0]), y1_so[:, :, 2].flatten(), \\\n",
    "            color='g', marker='_', linewidth=None, alpha=1, label='Description');\n",
    "plt.scatter(np.tile(np.arange(1, sentence_mods), y1_so.shape[0]), y1_so[:, :, 1].flatten(), \\\n",
    "            color='r', marker='_', linewidth=None, alpha=1, label='Entity');\n",
    "plt.scatter(np.tile(np.arange(1, sentence_mods), y1_so.shape[0]), y1_so[:, :, 5].flatten(), \\\n",
    "            color='b', marker='_', linewidth=None, alpha=1, label='Number');\n",
    "plt.title('Softmax output scatter');\n",
    "\n",
    "plt.tight_layout();\n",
    "plt.savefig('experiment_images/ciaomeaning.png')"
   ]
  }
 ],
 "metadata": {
  "kernelspec": {
   "display_name": "Python 3",
   "language": "python",
   "name": "python3"
  },
  "language_info": {
   "codemirror_mode": {
    "name": "ipython",
    "version": 3
   },
   "file_extension": ".py",
   "mimetype": "text/x-python",
   "name": "python",
   "nbconvert_exporter": "python",
   "pygments_lexer": "ipython3",
   "version": "3.8.5"
  }
 },
 "nbformat": 4,
 "nbformat_minor": 4
}
