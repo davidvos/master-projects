{
 "cells": [
  {
   "cell_type": "code",
   "execution_count": 1,
   "metadata": {},
   "outputs": [
    {
     "ename": "Exception",
     "evalue": "RUNNING THE CELLS BELOW WILL TAKE A LONG TIME",
     "output_type": "error",
     "traceback": [
      "\u001b[0;31m---------------------------------------------------------------------------\u001b[0m",
      "\u001b[0;31mException\u001b[0m                                 Traceback (most recent call last)",
      "\u001b[0;32m<ipython-input-1-ef21d8c65067>\u001b[0m in \u001b[0;36m<module>\u001b[0;34m\u001b[0m\n\u001b[0;32m----> 1\u001b[0;31m \u001b[0;32mraise\u001b[0m \u001b[0mException\u001b[0m\u001b[0;34m(\u001b[0m\u001b[0;34m\"RUNNING THE CELLS BELOW WILL TAKE A LONG TIME\"\u001b[0m\u001b[0;34m)\u001b[0m\u001b[0;34m\u001b[0m\u001b[0;34m\u001b[0m\u001b[0m\n\u001b[0m",
      "\u001b[0;31mException\u001b[0m: RUNNING THE CELLS BELOW WILL TAKE A LONG TIME"
     ]
    }
   ],
   "source": [
    "raise Exception(\"RUNNING THE CELLS BELOW WILL TAKE A LONG TIME\")"
   ]
  },
  {
   "cell_type": "markdown",
   "metadata": {},
   "source": [
    "# Analysis Question 2"
   ]
  },
  {
   "cell_type": "markdown",
   "metadata": {},
   "source": [
    "(5 points) Find the top ten similar documents to an arbitrary piece of text,\n",
    "using the doc2vec representations. Analyze the results. Are the documents similar in your\n",
    "opinion? If not, what is your analysis for the error?"
   ]
  },
  {
   "cell_type": "markdown",
   "metadata": {},
   "source": [
    "To achieve the discussed results for question A2.1 to following should be ran on the command line: <br>\n",
    "python doc2vec.py --search \"Officials in Washington State confirmed on Sunday two more cases of coronavirus in King County, bringing the total in the county to six and the number in the United States to 73.The two patients, men in their 60s, were in critical condition, King County officials said.This number is expected to rise as more people are tested and results confirmed, public health officials in Seattle and King County said in a statement on Sunday.Washington State has declared a state of emergency over the coronavirus, and researchers who studied two cases there say that the virus may have been spreading for weeks, with the possibility that up to 1,500 people may have been infected.The state became the site of the country’s first coronavirus death on Saturday.The number of confirmed cases worldwide crossed 87,000 as of Sunday, with more than 7,000 cases outside mainland China, where the outbreak began late last year. The virus has now been detected in at least 60 countries.\"<br>\n"
   ]
  },
  {
   "cell_type": "markdown",
   "metadata": {},
   "source": [
    "(5 points) Find the top ten similar words to five words of your choice, based on their word2vec representations. Analyze the results. Are the words similar in your opinion?"
   ]
  },
  {
   "cell_type": "code",
   "execution_count": 14,
   "metadata": {},
   "outputs": [
    {
     "name": "stdout",
     "output_type": "stream",
     "text": [
      "The autoreload extension is already loaded. To reload it, use:\n",
      "  %reload_ext autoreload\n",
      "hour\n",
      "minut\n",
      "p.m.\n",
      "a.m.\n",
      "midnight\n",
      "a.m\n",
      "6:30\n",
      "9:30\n",
      "noon\n",
      "7:30\n",
      "10:30\n",
      "\n",
      "\n",
      "car\n",
      "truck\n",
      "vehicl\n",
      "pickup\n",
      "bag\n",
      "bottl\n",
      "tire\n",
      "window\n",
      "bmw\n",
      "wagon\n",
      "rubber\n",
      "\n",
      "\n",
      "beer\n",
      "wine\n",
      "chicken\n",
      "chocol\n",
      "cabbag\n",
      "steak\n",
      "chees\n",
      "potato\n",
      "snack\n",
      "cooki\n",
      "butter\n",
      "\n",
      "\n",
      "dress\n",
      "shirt\n",
      "hat\n",
      "t-shirt\n",
      "wore\n",
      "jacket\n",
      "wear\n",
      "costum\n",
      "worn\n",
      "boot\n",
      "nake\n",
      "\n",
      "\n",
      "art\n",
      "artist\n",
      "exhibit\n",
      "theater\n",
      "ballet\n",
      "museum\n",
      "carnegi\n",
      "manuscript\n",
      "orchestra\n",
      "librari\n",
      "master\n"
     ]
    }
   ],
   "source": [
    "%load_ext autoreload\n",
    "%autoreload 2\n",
    "\n",
    "import numpy as np\n",
    "import torch\n",
    "import torch.nn as nn\n",
    "import os\n",
    "import pytrec_eval\n",
    "from tqdm import tqdm\n",
    "import json\n",
    "\n",
    "from SkipGram import SkipGram\n",
    "from word2vec import Word2VecRetrieval\n",
    "from ap_dataset import APDataset\n",
    "import pickle as pkl\n",
    "\n",
    "word2vec_retrieval = Word2VecRetrieval(5, 25000, 200, 1000, 'word2vec.pkl')\n",
    "word2vec_retrieval.find_similar_words('hour')\n",
    "print('\\n')\n",
    "word2vec_retrieval.find_similar_words('car')\n",
    "print('\\n')\n",
    "word2vec_retrieval.find_similar_words('beer')\n",
    "print('\\n')\n",
    "word2vec_retrieval.find_similar_words('dress')\n",
    "print('\\n')\n",
    "word2vec_retrieval.find_similar_words('art')"
   ]
  },
  {
   "cell_type": "markdown",
   "metadata": {},
   "source": [
    "# Analysis Question 3"
   ]
  },
  {
   "cell_type": "markdown",
   "metadata": {},
   "source": [
    "(5 points) For each of the LSI models you built over AP, and for LDA, select the\n",
    "\f",
    "ve top signi\f",
    "cant topics from your model. Check the top terms in each topic. Which\n",
    "topics actually represent a particular subject? Analyse the results. Do you observe a\n",
    "di\u000b",
    "erence?"
   ]
  },
  {
   "cell_type": "code",
   "execution_count": 3,
   "metadata": {
    "deletable": false,
    "editable": false,
    "evaluatable": false
   },
   "outputs": [
    {
     "name": "stderr",
     "output_type": "stream",
     "text": [
      "[nltk_data] Downloading package stopwords to\n",
      "[nltk_data]     C:\\Users\\david\\AppData\\Roaming\\nltk_data...\n",
      "[nltk_data]   Package stopwords is already up-to-date!\n",
      "[nltk_data] Downloading package punkt to\n",
      "[nltk_data]     C:\\Users\\david\\AppData\\Roaming\\nltk_data...\n",
      "[nltk_data]   Package punkt is already up-to-date!\n"
     ]
    },
    {
     "name": "stdout",
     "output_type": "stream",
     "text": [
      "Docs already processed. Loading from disk\n",
      "Reading doc ids\n",
      "LDA model already trained, loading from disk.\n"
     ]
    },
    {
     "name": "stderr",
     "output_type": "stream",
     "text": [
      "100%|██████████████████████████████████████████████████████| 164557/164557 [00:10<00:00, 15914.23it/s]\n"
     ]
    }
   ],
   "source": [
    "import os\n",
    "import json\n",
    "import pickle as pkl\n",
    "from collections import defaultdict, Counter\n",
    "\n",
    "import numpy as np\n",
    "from tqdm import tqdm\n",
    "\n",
    "import read_ap\n",
    "import download_ap\n",
    "\n",
    "from gensim_corpus import GensimCorpus\n",
    "\n",
    "from trec import TrecAPI\n",
    "%load_ext autoreload\n",
    "%autoreload 2\n",
    "from lda import LatentDirichletAllocation\n",
    "from lsi import LatentSemanticIndexing\n",
    "\n",
    "from trec import TrecAPI\n",
    "\n",
    "# ensure dataset is downloaded\n",
    "# download_ap.download_dataset()\n",
    "# pre-process the text\n",
    "docs_by_id = None\n",
    "docs_by_id = read_ap.get_processed_docs()\n",
    "\n",
    "os.makedirs(\"results\", exist_ok=True)\n",
    "os.makedirs(\"saved_models/sim_temps\", exist_ok=True)\n",
    "os.makedirs(\"raw_output\", exist_ok=True)\n",
    "\n",
    "gensim_corpus = GensimCorpus(docs_by_id, embedding=\"bow\")\n",
    "lda = LatentDirichletAllocation(gensim_corpus)"
   ]
  },
  {
   "cell_type": "code",
   "execution_count": 4,
   "metadata": {
    "scrolled": true
   },
   "outputs": [
    {
     "data": {
      "text/plain": [
       "[(0,\n",
       "  '0.151*\"center\" + 0.068*\"restor\" + 0.062*\"shelter\" + 0.061*\"homeless\" + 0.051*\"carter\" + 0.044*\"preserv\" + 0.036*\"visitor\" + 0.026*\"peopl\" + 0.018*\"jimmi\" + 0.017*\"dedic\"'),\n",
       " (1,\n",
       "  '0.109*\"safeti\" + 0.039*\"problem\" + 0.037*\"inspect\" + 0.035*\"inspector\" + 0.023*\"feder\" + 0.023*\"procedur\" + 0.020*\"report\" + 0.020*\"faa\" + 0.020*\"administr\" + 0.018*\"mechan\"'),\n",
       " (2,\n",
       "  '0.046*\"propos\" + 0.042*\"budget\" + 0.039*\"cut\" + 0.038*\"plan\" + 0.037*\"billion\" + 0.026*\"spend\" + 0.017*\"1990\" + 0.017*\"fiscal\" + 0.014*\"new\" + 0.014*\"approv\"'),\n",
       " (3,\n",
       "  '0.315*\"commerci\" + 0.122*\"pierc\" + 0.093*\"rico\" + 0.091*\"puerto\" + 0.067*\"disband\" + 0.050*\"juan\" + 0.027*\"raft\" + 0.026*\"sympath\" + 0.023*\"bulletin\" + 0.021*\"workshop\"'),\n",
       " (4,\n",
       "  '0.065*\"polit\" + 0.043*\"conserv\" + 0.037*\"liber\" + 0.037*\"support\" + 0.027*\"democrat\" + 0.023*\"oppon\" + 0.018*\"defeat\" + 0.017*\"politician\" + 0.015*\"oppos\" + 0.013*\"campaign\"')]"
      ]
     },
     "execution_count": 4,
     "metadata": {},
     "output_type": "execute_result"
    }
   ],
   "source": [
    "lda.model.print_topics(num_topics=-1)[:5]"
   ]
  },
  {
   "cell_type": "code",
   "execution_count": 5,
   "metadata": {},
   "outputs": [
    {
     "name": "stdout",
     "output_type": "stream",
     "text": [
      "Reading doc ids\n",
      "LSI tfidf model already trained, loading from disk.\n",
      "Similarities matrix tfidf model already trained, loading from disk.\n"
     ]
    },
    {
     "data": {
      "text/plain": [
       "[(0,\n",
       "  '0.112*\"percent\" + 0.104*\"stock\" + 0.100*\"bush\" + 0.089*\"soviet\" + 0.084*\"market\" + 0.081*\"million\" + 0.078*\"trade\" + 0.074*\"govern\" + 0.073*\"compani\" + 0.072*\"polic\"'),\n",
       " (1,\n",
       "  '0.356*\"stock\" + 0.218*\"market\" + 0.198*\"index\" + 0.171*\"yen\" + 0.170*\"trade\" + 0.170*\"cent\" + 0.156*\"price\" + 0.146*\"dollar\" + 0.145*\"exchang\" + 0.133*\"share\"'),\n",
       " (2,\n",
       "  '0.651*\"cent\" + -0.228*\"stock\" + 0.221*\"bushel\" + 0.194*\"soybean\" + 0.152*\"lower\" + 0.146*\"higher\" + 0.129*\"wheat\" + 0.127*\"futur\" + 0.127*\"corn\" + -0.122*\"dukaki\"'),\n",
       " (3,\n",
       "  '-0.309*\"dukaki\" + -0.286*\"bush\" + -0.201*\"cent\" + 0.156*\"polic\" + -0.153*\"democrat\" + 0.151*\"palestinian\" + 0.136*\"yen\" + -0.132*\"jackson\" + -0.131*\"percent\" + 0.127*\"isra\"'),\n",
       " (4,\n",
       "  '-0.328*\"yen\" + -0.251*\"dollar\" + -0.197*\"soviet\" + -0.189*\"bush\" + -0.163*\"dukaki\" + -0.128*\"tokyo\" + 0.116*\"compani\" + -0.114*\"parti\" + -0.114*\"ounc\" + -0.109*\"gold\"')]"
      ]
     },
     "execution_count": 5,
     "metadata": {},
     "output_type": "execute_result"
    }
   ],
   "source": [
    "gensim_corpus = GensimCorpus(docs_by_id, embedding=\"tfidf\")\n",
    "lsi = LatentSemanticIndexing(gensim_corpus, embedding=\"tfidf\")\n",
    "lsi.model.print_topics(num_topics=-1)[:5]"
   ]
  },
  {
   "cell_type": "code",
   "execution_count": 6,
   "metadata": {},
   "outputs": [
    {
     "name": "stdout",
     "output_type": "stream",
     "text": [
      "Reading doc ids\n",
      "LSI bow model already trained, loading from disk.\n",
      "Similarities matrix bow model already trained, loading from disk.\n"
     ]
    },
    {
     "data": {
      "text/plain": [
       "[(0,\n",
       "  '0.178*\"state\" + 0.176*\"percent\" + 0.167*\"new\" + 0.134*\"one\" + 0.133*\"peopl\" + 0.131*\"report\" + 0.131*\"say\" + 0.131*\"govern\" + 0.131*\"n\\'t\" + 0.129*\"presid\"'),\n",
       " (1,\n",
       "  '0.786*\"percent\" + 0.141*\"0\" + 0.131*\"price\" + 0.124*\"million\" + 0.117*\"rate\" + 0.111*\"billion\" + 0.102*\"cent\" + 0.101*\"market\" + 0.080*\"increas\" + -0.080*\"peopl\"'),\n",
       " (2,\n",
       "  '0.395*\"percent\" + -0.386*\"cent\" + 0.234*\"bush\" + -0.197*\"million\" + -0.183*\"market\" + -0.168*\"price\" + -0.152*\"trade\" + 0.146*\"dukaki\" + 0.144*\"0\" + -0.144*\"higher\"'),\n",
       " (3,\n",
       "  '-0.427*\"bush\" + -0.223*\"dukaki\" + -0.201*\"cent\" + -0.195*\"presid\" + -0.190*\"democrat\" + 0.177*\"polic\" + 0.176*\"percent\" + -0.142*\"campaign\" + -0.136*\"republican\" + 0.133*\"offici\"'),\n",
       " (4,\n",
       "  '-0.289*\"soviet\" + -0.233*\"cent\" + 0.226*\"n\\'t\" + -0.202*\"govern\" + -0.170*\"parti\" + -0.165*\"u.s.\" + 0.147*\"million\" + 0.128*\"compani\" + -0.126*\"unit\" + -0.123*\"state\"')]"
      ]
     },
     "execution_count": 6,
     "metadata": {},
     "output_type": "execute_result"
    }
   ],
   "source": [
    "gensim_corpus = GensimCorpus(docs_by_id, embedding=\"bow\")\n",
    "lsi = LatentSemanticIndexing(gensim_corpus, embedding=\"bow\")\n",
    "lsi.model.print_topics(num_topics=-1)[:5]"
   ]
  },
  {
   "cell_type": "markdown",
   "metadata": {},
   "source": [
    "# Analysis Question 4"
   ]
  },
  {
   "cell_type": "code",
   "execution_count": 7,
   "metadata": {},
   "outputs": [],
   "source": [
    "import os\n",
    "import json\n",
    "import pickle as pkl\n",
    "import operator\n",
    "from pprint import pprint\n",
    "import argparse\n",
    "\n",
    "model_names = [\n",
    "    \"lsi_bow\",\n",
    "    \"lsi_tfidf\",\n",
    "    \"doc2vec\",\n",
    "    \"doc2vec_vocab_size\",\n",
    "    \"doc2vec_window_size\",\n",
    "    \"doc2vec_vec_dim\",\n",
    "    \"word2vec\",\n",
    "    \"lsa_bow\"\n",
    "]\n",
    "\n",
    "best_run_results = {\n",
    "    \"tfidf\":\"./results/tfidf.json\",\n",
    "    \"word2vec\": \"./results/skip_gram.json\",\n",
    "    \"doc2vec\":\"./results/doc2vec_vocab_size_50000_results_trec.json\",\n",
    "    \"lsi_tfidf\":\"./results/lsi-tfidf-embedding-2000-topics.json\",\n",
    "    \"lsi_bow\":\"./results/lsi-bow-embedding-2000-topics.json\",\n",
    "    \"lda_bow\":\"./results/lda-500-topics.json\"\n",
    "}\n",
    "\n",
    "default_run_results = {\n",
    "    \"tfidf\":\"./results/tfidf.json\",\n",
    "    \"word2vec\": \"./results/skip_gram.json\",\n",
    "    \"doc2vec\":\"./results/doc2vec_vocab_size_10000_results_trec.json\",\n",
    "    \"lsi_tfidf\":\"./results/lsi-tfidf-embedding-500-topics.json\",\n",
    "    \"lsi_bow\":\"./results/lsi-bow-embedding-500-topics.json\",\n",
    "    \"lda_bow\":\"./results/lda-500-topics.json\"\n",
    "}\n",
    "\n",
    "lsi_bow_results = {\n",
    "    \"10 topics\":\"./results/lsi-bow-embedding-10-topics.json\",\n",
    "    \"50 topics\":\"./results/lsi-bow-embedding-50-topics.json\",\n",
    "    \"100 topics\":\"./results/lsi-bow-embedding-100-topics.json\",\n",
    "    \"500 topics\":\"./results/lsi-bow-embedding-500-topics.json\",\n",
    "    \"1000 topics\":\"./results/lsi-bow-embedding-1000-topics.json\",\n",
    "    \"2000 topics\":\"./results/lsi-bow-embedding-2000-topics.json\",\n",
    "}\n",
    "\n",
    "lsi_tfidf_results = {\n",
    "    \"10 topics\":\"./results/lsi-tfidf-embedding-10-topics.json\",\n",
    "    \"50 topics\":\"./results/lsi-tfidf-embedding-50-topics.json\",\n",
    "    \"100 topics\":\"./results/lsi-tfidf-embedding-100-topics.json\",\n",
    "    \"500 topics\":\"./results/lsi-tfidf-embedding-500-topics.json\",\n",
    "    \"1000 topics\":\"./results/lsi-tfidf-embedding-1000-topics.json\",\n",
    "    \"2000 topics\":\"./results/lsi-tfidf-embedding-2000-topics.json\",\n",
    "}\n",
    "\n",
    "doc2vec_window_size_results = {\n",
    "    \"window size 5\":\"./results/doc2vec_window_size_5_results_trec.json\",\n",
    "    \"window size 10\":\"./results/doc2vec_window_size_10_results_trec.json\",\n",
    "    \"window size 15\":\"./results/doc2vec_window_size_15_results_trec.json\",\n",
    "    \"window size 20\":\"./results/doc2vec_window_size_20_results_trec.json\"\n",
    "}\n",
    "\n",
    "doc2vec_vec_dim_results = {\n",
    "    \"vec dim 200\":\"./results/doc2vec_vec_dim_200_results_trec.json\",\n",
    "    \"vec dim 300\":\"./results/doc2vec_vec_dim_300_results_trec.json\",\n",
    "    \"vec dim 400\":\"./results/doc2vec_vec_dim_400_results_trec.json\",\n",
    "    \"vec dim 500\":\"./results/doc2vec_vec_dim_500_results_trec.json\"\n",
    "}\n",
    "\n",
    "doc2vec_vocab_size_results = {\n",
    "    \"vocab size 1000\":\"./results/doc2vec_vocab_size_10000_results_trec.json\",\n",
    "    \"vocab size 25000\":\"./results/doc2vec_vocab_size_25000_results_trec.json\",\n",
    "    \"vocab size 50000\":\"./results/doc2vec_vocab_size_50000_results_trec.json\",\n",
    "    \"vocab size 100000\":\"./results/doc2vec_vocab_size_100000_results_trec.json\",\n",
    "    \"vocab size 200000\":\"./results/doc2vec_vocab_size_200000_results_trec.json\"\n",
    "}\n",
    "\n",
    "doc2vec_results = dict(\n",
    "    list(doc2vec_window_size_results.items()) + \n",
    "    list(doc2vec_vec_dim_results.items()) + \n",
    "    list(doc2vec_vocab_size_results.items()))"
   ]
  },
  {
   "cell_type": "markdown",
   "metadata": {},
   "source": [
    "# AQ 4.1"
   ]
  },
  {
   "cell_type": "markdown",
   "metadata": {},
   "source": [
    "(5 points) Report the retrieval performance in terms of MAP and nDCG for all\n",
    "of the methods, on a) all queries, and b) queries 76-100. To be precise, you need to report\n",
    "24 numbers in a table."
   ]
  },
  {
   "cell_type": "code",
   "execution_count": 8,
   "metadata": {},
   "outputs": [
    {
     "name": "stdout",
     "output_type": "stream",
     "text": [
      "\n",
      "\n",
      "############# AQ4.1 #############\n",
      "\n",
      "\n",
      "RETRIEVAL PERFORMANCE ON ALL QUERIES:\n",
      "{'doc2vec': {'map': 0.015308724832214769, 'ndcg': 0.3467221476510067},\n",
      " 'lda_bow': {'map': 0.05803221476510063, 'ndcg': 0.35749060402684546},\n",
      " 'lsi_bow': {'map': 0.0854167785234899, 'ndcg': 0.4547704697986578},\n",
      " 'lsi_tfidf': {'map': 0.1566093959731544, 'ndcg': 0.5399912751677852},\n",
      " 'tfidf': {'map': 0.21975503355704706, 'ndcg': 0.5819409395973155},\n",
      " 'word2vec': {'map': 0.03523334851360046, 'ndcg': 0.3934156401854176}}\n",
      "\n",
      "RETRIEVAL PERFORMANCE ON EVAL QUERIES 76-100\n",
      "{'doc2vec': {'map': 0.007988, 'ndcg': 0.33049999999999996},\n",
      " 'lda_bow': {'map': 0.023135999999999997, 'ndcg': 0.31302},\n",
      " 'lsi_bow': {'map': 0.053256000000000005, 'ndcg': 0.4109600000000001},\n",
      " 'lsi_tfidf': {'map': 0.100868, 'ndcg': 0.4802520000000001},\n",
      " 'tfidf': {'map': 0.18150000000000002, 'ndcg': 0.5413720000000001},\n",
      " 'word2vec': {'map': 0.029647071718410786, 'ndcg': 0.37973304204318553}}\n"
     ]
    }
   ],
   "source": [
    "print(\"\\n\\n############# AQ4.1 #############\\n\\n\")\n",
    "default_all_results_per_setup = {}\n",
    "default_results_per_setup = {}\n",
    "default_eval_results_per_setup = {}\n",
    "for model, fn in default_run_results.items():\n",
    "    with open(fn, \"r\") as f:\n",
    "        res = json.load(f)\n",
    "        res.pop(\"all\", None)\n",
    "        default_all_results_per_setup[model] = res\n",
    "\n",
    "    default_results_per_setup[model] = {}\n",
    "    default_results_per_setup[model][\"map\"] = sum([q[\"map\"] for q in res.values()]) / len(res)\n",
    "    default_results_per_setup[model][\"ndcg\"] = sum([q[\"ndcg\"] for q in res.values()]) / len(res)\n",
    "\n",
    "    # query ids range from 51 to 200. evaluation set is 76 - 100, we should only use that for\n",
    "    # parameter tuning.\n",
    "    query_id_range = list(str(qid) for qid in range(76, 101)) \n",
    "    default_eval_results_per_setup[model] = {}\n",
    "    default_eval_results_per_setup[model][\"map\"] = sum([res[qid][\"map\"] for qid in query_id_range]) / len(query_id_range)\n",
    "    default_eval_results_per_setup[model][\"ndcg\"] = sum([res[qid][\"ndcg\"] for qid in query_id_range]) / len(query_id_range)        \n",
    "\n",
    "print(\"RETRIEVAL PERFORMANCE ON ALL QUERIES:\")\n",
    "pprint(default_results_per_setup)\n",
    "\n",
    "print(\"\\nRETRIEVAL PERFORMANCE ON EVAL QUERIES 76-100\")\n",
    "pprint(default_eval_results_per_setup)"
   ]
  },
  {
   "cell_type": "markdown",
   "metadata": {},
   "source": [
    "# AQ 4.2"
   ]
  },
  {
   "cell_type": "markdown",
   "metadata": {},
   "source": [
    "(5 points) Signi\f",
    "cance testing is a way of showing that if the di\u000b",
    "erence observed\n",
    "between the performance of two models is due to chance or not. Use pytrec eval to\n",
    "perform a t-test between every pair of models, on the complete query set. You need to\n",
    "report the results of six tests.a"
   ]
  },
  {
   "cell_type": "code",
   "execution_count": 9,
   "metadata": {},
   "outputs": [
    {
     "name": "stdout",
     "output_type": "stream",
     "text": [
      "For tfidf and word2vec: 7.815695914892806e-19\n",
      "For tfidf and doc2vec: 1.8353896475275935e-22\n",
      "For tfidf and lsi_tfidf: 0.00040752805306730364\n",
      "For tfidf and lsi_bow: 5.561249922832812e-12\n",
      "For tfidf and lda_bow: 2.5544396568597995e-18\n",
      "For word2vec and doc2vec: 6.5198154848564745e-06\n",
      "For word2vec and lsi_tfidf: 4.147894558331163e-15\n",
      "For word2vec and lsi_bow: 1.7997795801115068e-06\n",
      "For word2vec and lda_bow: 0.04424719937243177\n",
      "For doc2vec and lsi_tfidf: 2.879011182598756e-18\n",
      "For doc2vec and lsi_bow: 6.145436232921566e-10\n",
      "For doc2vec and lda_bow: 6.557469103539467e-05\n",
      "For lsi_tfidf and lsi_bow: 8.649612882066083e-10\n",
      "For lsi_tfidf and lda_bow: 9.562914792240968e-13\n",
      "For lsi_bow and lda_bow: 0.008860289408659103\n"
     ]
    }
   ],
   "source": [
    "from itertools import combinations\n",
    "from scipy.stats import ttest_rel\n",
    "\n",
    "for model_1, model_2 in combinations(list(default_all_results_per_setup.keys()), 2):\n",
    "    \n",
    "    first_results = default_all_results_per_setup[model_1]\n",
    "    second_results = default_all_results_per_setup[model_2]\n",
    "    \n",
    "    query_ids = list(\n",
    "    set(first_results.keys()) & set(second_results.keys()))\n",
    "\n",
    "    first_scores = [\n",
    "        first_results[query_id][\"map\"] for query_id in query_ids]\n",
    "    second_scores = [\n",
    "        second_results[query_id][\"map\"] for query_id in query_ids]\n",
    "\n",
    "    print(\"For {} and {}: {}\".format(model_1, model_2, ttest_rel(first_scores, second_scores)[1]))\n"
   ]
  },
  {
   "cell_type": "markdown",
   "metadata": {},
   "source": [
    "# AQ 4.3"
   ]
  },
  {
   "cell_type": "markdown",
   "metadata": {},
   "source": [
    "(5 points) Report the retrieval performance in terms of MAP and nDCG for all\n",
    "of the methods, on a) all queries, and b) test queries. Use the parameters leading to the\n",
    "best performance on validation set. Attach the results corresponding to each run to\n",
    "your report."
   ]
  },
  {
   "cell_type": "code",
   "execution_count": 10,
   "metadata": {},
   "outputs": [
    {
     "name": "stdout",
     "output_type": "stream",
     "text": [
      "######### TO DETERMINE THE BEST SETUP ###########\n",
      "\n",
      "\n",
      "ALL RESULTS:\n",
      "{'10 topics': 0.004864,\n",
      " '100 topics': 0.030288,\n",
      " '1000 topics': 0.054824000000000005,\n",
      " '2000 topics': 0.05783200000000001,\n",
      " '50 topics': 0.024951999999999995,\n",
      " '500 topics': 0.053256000000000005}\n",
      "\n",
      "BEST RESULT:\n",
      "With MAP of: 0.0578 best setup: 2000 topics\n"
     ]
    }
   ],
   "source": [
    "# set the model type to determine the best settings for.\n",
    "model = \"lsi_bow\"\n",
    "\n",
    "# query ids range from 51 to 200. evaluation set is 76 - 100, we should only use that for\n",
    "# parameter tuning.\n",
    "query_id_range = list(str(qid) for qid in range(76, 101))\n",
    "\n",
    "results_per_setup = {}\n",
    "param_results = {}\n",
    "for setup, fn in eval(model + \"_results\").items():\n",
    "    with open(fn, \"r\") as f:\n",
    "        all_results = json.load(f)\n",
    "        param_results[setup] = all_results\n",
    "            \n",
    "    results_per_setup[setup] = sum([all_results[qid][\"map\"] for qid in query_id_range]) / len(query_id_range)\n",
    "    #results_per_setup[fn] = all_results[\"all\"][\"map\"]\n",
    "\n",
    "setup, mean_eval_map = max(results_per_setup.items(), key=operator.itemgetter(1))\n",
    "\n",
    "print(\"######### TO DETERMINE THE BEST SETUP ###########\\n\\n\")\n",
    "print(\"ALL RESULTS:\")\n",
    "pprint(results_per_setup)\n",
    "print(\"\\nBEST RESULT:\\nWith MAP of: {0:.4f} best setup: {1}\".format(mean_eval_map, setup))"
   ]
  },
  {
   "cell_type": "code",
   "execution_count": 11,
   "metadata": {},
   "outputs": [
    {
     "name": "stdout",
     "output_type": "stream",
     "text": [
      "RETRIEVAL PERFORMANCE ON ALL QUERIES:\n",
      "{'doc2vec': {'map': 0.015308724832214769, 'ndcg': 0.3467221476510067},\n",
      " 'lda_bow': {'map': 0.05803221476510063, 'ndcg': 0.35749060402684546},\n",
      " 'lsi_bow': {'map': 0.0854167785234899, 'ndcg': 0.4547704697986578},\n",
      " 'lsi_tfidf': {'map': 0.1566093959731544, 'ndcg': 0.5399912751677852},\n",
      " 'tfidf': {'map': 0.21975503355704706, 'ndcg': 0.5819409395973155},\n",
      " 'word2vec': {'map': 0.03523334851360046, 'ndcg': 0.3934156401854176}}\n",
      "\n",
      "RETRIEVAL PERFORMANCE ON EVAL QUERIES 76-100\n",
      "{'doc2vec': {'map': 0.007988, 'ndcg': 0.33049999999999996},\n",
      " 'lda_bow': {'map': 0.023135999999999997, 'ndcg': 0.31302},\n",
      " 'lsi_bow': {'map': 0.053256000000000005, 'ndcg': 0.4109600000000001},\n",
      " 'lsi_tfidf': {'map': 0.100868, 'ndcg': 0.4802520000000001},\n",
      " 'tfidf': {'map': 0.18150000000000002, 'ndcg': 0.5413720000000001},\n",
      " 'word2vec': {'map': 0.029647071718410786, 'ndcg': 0.37973304204318553}}\n"
     ]
    }
   ],
   "source": [
    "all_results_per_setup = {}\n",
    "results_per_setup = {}\n",
    "eval_results_per_setup = {}\n",
    "for model, fn in best_run_results.items():\n",
    "    with open(fn, \"r\") as f:\n",
    "        res = json.load(f)\n",
    "        res.pop(\"all\", None)\n",
    "        all_results_per_setup[model] = res\n",
    "\n",
    "    results_per_setup[model] = {}\n",
    "    results_per_setup[model][\"map\"] = sum([q[\"map\"] for q in res.values()]) / len(res)\n",
    "    results_per_setup[model][\"ndcg\"] = sum([q[\"ndcg\"] for q in res.values()]) / len(res)\n",
    "\n",
    "    # query ids range from 51 to 200. evaluation set is 76 - 100, we should only use that for\n",
    "    # parameter tuning.\n",
    "    query_id_range = list(str(qid) for qid in range(76, 101)) \n",
    "    eval_results_per_setup[model] = {}\n",
    "    eval_results_per_setup[model][\"map\"] = sum([res[qid][\"map\"] for qid in query_id_range]) / len(query_id_range)\n",
    "    eval_results_per_setup[model][\"ndcg\"] = sum([res[qid][\"ndcg\"] for qid in query_id_range]) / len(query_id_range)\n",
    "\n",
    "print(\"RETRIEVAL PERFORMANCE ON ALL QUERIES:\")\n",
    "pprint(default_results_per_setup)\n",
    "\n",
    "print(\"\\nRETRIEVAL PERFORMANCE ON EVAL QUERIES 76-100\")\n",
    "pprint(default_eval_results_per_setup)"
   ]
  },
  {
   "cell_type": "markdown",
   "metadata": {},
   "source": [
    "# AQ 4.4"
   ]
  },
  {
   "cell_type": "markdown",
   "metadata": {},
   "source": [
    "AQ4.4: (5 points) Perform a t-test between the result of each method using the best\n",
    "parameters and the default ones used in AQ4.1. Describe your observations."
   ]
  },
  {
   "cell_type": "code",
   "execution_count": 12,
   "metadata": {},
   "outputs": [
    {
     "name": "stderr",
     "output_type": "stream",
     "text": [
      "d:\\david\\miniconda3\\lib\\site-packages\\scipy\\stats\\_distn_infrastructure.py:879: RuntimeWarning: invalid value encountered in greater\n",
      "  return (self.a < x) & (x < self.b)\n",
      "d:\\david\\miniconda3\\lib\\site-packages\\scipy\\stats\\_distn_infrastructure.py:879: RuntimeWarning: invalid value encountered in less\n",
      "  return (self.a < x) & (x < self.b)\n",
      "d:\\david\\miniconda3\\lib\\site-packages\\scipy\\stats\\_distn_infrastructure.py:1821: RuntimeWarning: invalid value encountered in less_equal\n",
      "  cond2 = cond0 & (x <= self.a)\n"
     ]
    },
    {
     "name": "stdout",
     "output_type": "stream",
     "text": [
      "For tfidf: nan\n",
      "For word2vec: nan\n",
      "For doc2vec: 0.655069631206225\n",
      "For lsi_tfidf: 0.1581082935231672\n",
      "For lsi_bow: 6.926306286359561e-05\n",
      "For lda_bow: nan\n"
     ]
    }
   ],
   "source": [
    "from itertools import combinations\n",
    "from scipy.stats import ttest_rel\n",
    "\n",
    "for model in default_all_results_per_setup:\n",
    "    \n",
    "    first_results = default_all_results_per_setup[model]\n",
    "    second_results = all_results_per_setup[model]\n",
    "    \n",
    "    query_ids = list(\n",
    "    set(first_results.keys()) & set(second_results.keys()))\n",
    "\n",
    "    first_scores = [\n",
    "        first_results[query_id][\"map\"] for query_id in query_ids]\n",
    "    second_scores = [\n",
    "        second_results[query_id][\"map\"] for query_id in query_ids]\n",
    "\n",
    "    print(\"For {}: {}\".format(model, ttest_rel(first_scores, second_scores)[1]))\n"
   ]
  },
  {
   "cell_type": "markdown",
   "metadata": {},
   "source": [
    "# AQ 4.5"
   ]
  },
  {
   "cell_type": "markdown",
   "metadata": {},
   "source": [
    "AQ4.5: (5 points)For each parameter, plot the retrieval performance in terms of MAP\n",
    "with respect to the value of the parameter, for a) all queries, and b) test queries. Describe\n",
    "your \f",
    "ndings."
   ]
  },
  {
   "cell_type": "code",
   "execution_count": 13,
   "metadata": {
    "scrolled": true
   },
   "outputs": [
    {
     "data": {
      "image/png": "[encoded data removed]",
      "text/plain": [
       "<Figure size 1440x432 with 2 Axes>"
      ]
     },
     "metadata": {
      "needs_background": "light"
     },
     "output_type": "display_data"
    },
    {
     "data": {
      "image/png": "[encoded data removed]",
      "text/plain": [
       "<Figure size 1440x432 with 2 Axes>"
      ]
     },
     "metadata": {
      "needs_background": "light"
     },
     "output_type": "display_data"
    },
    {
     "data": {
      "image/png": "[encoded data removed]",
      "text/plain": [
       "<Figure size 1440x432 with 2 Axes>"
      ]
     },
     "metadata": {
      "needs_background": "light"
     },
     "output_type": "display_data"
    },
    {
     "data": {
      "image/png": "[encoded data removed]",
      "text/plain": [
       "<Figure size 1440x432 with 2 Axes>"
      ]
     },
     "metadata": {
      "needs_background": "light"
     },
     "output_type": "display_data"
    },
    {
     "data": {
      "image/png": "[encoded data removed]",
      "text/plain": [
       "<Figure size 1440x432 with 2 Axes>"
      ]
     },
     "metadata": {
      "needs_background": "light"
     },
     "output_type": "display_data"
    }
   ],
   "source": [
    "import matplotlib.pyplot as plt\n",
    "%matplotlib inline\n",
    "tune_models = [\n",
    "    \"lsi_bow\", \"lsi_tfidf\", \"doc2vec_vocab_size\", \"doc2vec_window_size\", \"doc2vec_vec_dim\"\n",
    "]\n",
    "\n",
    "query_id_range = list(str(qid) for qid in range(76, 101))\n",
    "\n",
    "for model in tune_models:\n",
    "    results_per_setup = {}\n",
    "    eval_results_per_setup = {}\n",
    "    for setup, fn in eval(model + \"_results\").items():\n",
    "        with open(fn, \"r\") as f:\n",
    "            res = json.load(f)\n",
    "\n",
    "        results_per_setup[setup] = sum([q[\"map\"] for q in res.values()]) / len(res)\n",
    "        eval_results_per_setup[setup] = sum([res[qid][\"map\"] for qid in query_id_range]) / len(query_id_range)\n",
    "\n",
    "    fig, ax = plt.subplots(1, 2, figsize=(20, 6))\n",
    "    setups = list(results_per_setup.keys())\n",
    "    maps = list(results_per_setup.values())\n",
    "    ax[0].bar(setups, maps, color=\"orange\", label=\"MAP on full results\")\n",
    "    ax[0].set_title(model)\n",
    "\n",
    "    setups = list(eval_results_per_setup.keys())\n",
    "    maps = list(eval_results_per_setup.values())\n",
    "    ax[1].bar(setups, maps, label=\"MAP on eval results\")\n",
    "    ax[1].set_title(model)\n",
    "    plt.legend()\n",
    "    plt.savefig(\"./results/param-tuning-plots-{}.png\".format(model))\n",
    "    plt.show()"
   ]
  },
  {
   "cell_type": "markdown",
   "metadata": {},
   "source": [
    "# AQ 4.6"
   ]
  },
  {
   "cell_type": "markdown",
   "metadata": {},
   "source": [
    "AQ4.6: (5 points) Doing a query-level analysis provides insights on the weaknesses and\n",
    "strengths of the retrieval models. For each of the four retrieval methods implemented\n",
    "above, find success and failure cases: queries for which the MAP was highest or lowest.\n",
    "Analyse the results, possibly with checking the qrels file. Discuss why you think each case\n",
    "happened"
   ]
  },
  {
   "cell_type": "code",
   "execution_count": 14,
   "metadata": {},
   "outputs": [],
   "source": [
    "qrels, queries = read_ap.read_qrels()"
   ]
  },
  {
   "cell_type": "code",
   "execution_count": 15,
   "metadata": {
    "scrolled": true
   },
   "outputs": [
    {
     "name": "stdout",
     "output_type": "stream",
     "text": [
      "\n",
      "#######tfidf########\n",
      "With MAP of 0.8413, BEST query 163:\n",
      "\n",
      "  Vietnam Veterans and Agent Orange \n",
      "\n",
      "relevant docs:\n",
      " dict_keys(['AP880318-0002', 'AP880318-0076', 'AP880322-0032', 'AP880325-0081', 'AP880429-0264', 'AP880512-0014', 'AP880516-0274', 'AP880526-0180', 'AP880609-0047', 'AP880630-0195', 'AP880630-0207', 'AP880630-0325', 'AP880701-0009', 'AP880701-0251', 'AP880702-0162', 'AP880705-0105', 'AP880706-0116', 'AP880709-0004', 'AP880723-0059', 'AP880730-0025', 'AP880813-0089', 'AP880814-0052', 'AP880815-0056', 'AP880902-0065', 'AP881018-0205', 'AP881019-0035', 'AP881021-0013', 'AP881111-0102', 'AP881111-0117', 'AP881111-0142', 'AP881111-0167', 'AP881111-0226', 'AP881221-0124', 'AP881224-0002', 'AP890103-0006', 'AP890125-0053', 'AP890125-0175', 'AP890223-0024', 'AP890302-0076', 'AP890315-0162', 'AP890330-0110', 'AP890405-0294', 'AP890406-0111', 'AP890411-0237', 'AP890417-0253', 'AP890501-0185', 'AP890509-0015', 'AP890509-0035', 'AP890509-0218', 'AP890512-0009', 'AP890512-0222', 'AP890524-0199', 'AP890608-0162', 'AP890609-0106', 'AP890617-0023', 'AP890622-0264', 'AP890626-0006', 'AP890705-0084', 'AP890706-0060', 'AP890712-0036', 'AP890716-0034', 'AP890719-0025', 'AP890725-0166', 'AP890803-0120', 'AP890804-0038', 'AP891006-0170', 'AP891011-0028', 'AP891030-0013', 'AP891030-0209', 'AP891104-0009', 'AP891104-0048', 'AP891104-0130', 'AP891116-0096', 'AP891117-0173', 'AP891120-0112', 'AP891125-0015', 'AP891207-0111', 'AP891218-0117']) 78\n",
      "\n",
      "With MAP of 0.0004, WORST query 91:\n",
      "\n",
      "  U.S. Army Acquisition of Advanced Weapons Systems \n",
      "\n",
      "relevant docs:\n",
      " dict_keys(['AP880413-0328', 'AP880707-0209', 'AP881020-0224', 'AP881201-0194', 'AP890113-0040']) 5\n",
      "\n",
      "#######word2vec########\n",
      "With MAP of 0.34373537070180854, BEST query 56:\n",
      "\n",
      "  Prime (Lending) Rate Moves, Predictions \n",
      "\n",
      "relevant docs:\n",
      " dict_keys(['AP880229-0019', 'AP880229-0144', 'AP880401-0180', 'AP880408-0227', 'AP880408-0232', 'AP880429-0287', 'AP880429-0295', 'AP880429-0297', 'AP880429-0299', 'AP880429-0303', 'AP880511-0197', 'AP880511-0290', 'AP880511-0328', 'AP880511-0329', 'AP880511-0332', 'AP880511-0338', 'AP880511-0340', 'AP880511-0346', 'AP880511-0349', 'AP880512-0060', 'AP880512-0065', 'AP880512-0111', 'AP880512-0243', 'AP880512-0270', 'AP880512-0296', 'AP880512-0315', 'AP880513-0083', 'AP880513-0147', 'AP880513-0291', 'AP880514-0182', 'AP880515-0023', 'AP880517-0255', 'AP880520-0207', 'AP880602-0302', 'AP880606-0282', 'AP880622-0303', 'AP880628-0020', 'AP880628-0280', 'AP880701-0197', 'AP880713-0276', 'AP880714-0009', 'AP880714-0112', 'AP880714-0210', 'AP880714-0244', 'AP880714-0246', 'AP880714-0249', 'AP880714-0253', 'AP880714-0255', 'AP880714-0259', 'AP880714-0260', 'AP880714-0262', 'AP880714-0267', 'AP880714-0268', 'AP880714-0274', 'AP880715-0256', 'AP880716-0135', 'AP880718-0239', 'AP880808-0230', 'AP880809-0127', 'AP880809-0216', 'AP880809-0222', 'AP880809-0236', 'AP880809-0238', 'AP880810-0019', 'AP880810-0121', 'AP880811-0131', 'AP880811-0138', 'AP880811-0225', 'AP880811-0268', 'AP880811-0272', 'AP880811-0276', 'AP880811-0280', 'AP880811-0284', 'AP880811-0288', 'AP880811-0289', 'AP880811-0292', 'AP880812-0004', 'AP880812-0246', 'AP880812-0248', 'AP880812-0263', 'AP880813-0218', 'AP880813-0219', 'AP880816-0010', 'AP880817-0176', 'AP880817-0276', 'AP880818-0271', 'AP880819-0188', 'AP880819-0189', 'AP880825-0260', 'AP880827-0161', 'AP881104-0186', 'AP881117-0302', 'AP881125-0235', 'AP881128-0041', 'AP881128-0107', 'AP881128-0257', 'AP881128-0268', 'AP881128-0271', 'AP881128-0274', 'AP881128-0276', 'AP881128-0279', 'AP881128-0281', 'AP881129-0024', 'AP881129-0076', 'AP881129-0115', 'AP881129-0218', 'AP881129-0234', 'AP881203-0158', 'AP881212-0129', 'AP881213-0018', 'AP881214-0251', 'AP881215-0272', 'AP881215-0282', 'AP881216-0175', 'AP881216-0243', 'AP881216-0274', 'AP881230-0217', 'AP890104-0107', 'AP890104-0250', 'AP890106-0247', 'AP890120-0253', 'AP890207-0226', 'AP890207-0229', 'AP890207-0268', 'AP890208-0257', 'AP890210-0264', 'AP890210-0265', 'AP890210-0274', 'AP890210-0275', 'AP890210-0287', 'AP890210-0288', 'AP890211-0167', 'AP890211-0170', 'AP890211-0171', 'AP890211-0174', 'AP890212-0096', 'AP890213-0027', 'AP890213-0036', 'AP890213-0223', 'AP890213-0229', 'AP890213-0231', 'AP890213-0235', 'AP890213-0239', 'AP890213-0241', 'AP890213-0252', 'AP890213-0257', 'AP890220-0077', 'AP890223-0284', 'AP890223-0288', 'AP890223-0302', 'AP890224-0074', 'AP890224-0101', 'AP890224-0231', 'AP890224-0239', 'AP890224-0241', 'AP890224-0242', 'AP890224-0243', 'AP890224-0245', 'AP890224-0263', 'AP890224-0266', 'AP890224-0273', 'AP890224-0275', 'AP890224-0280', 'AP890225-0157', 'AP890225-0159', 'AP890225-0161', 'AP890226-0019', 'AP890227-0024', 'AP890227-0133', 'AP890227-0292', 'AP890227-0297', 'AP890227-0305', 'AP890227-0311', 'AP890227-0320', 'AP890301-0250', 'AP890303-0162', 'AP890310-0322', 'AP890314-0252', 'AP890314-0303', 'AP890315-0277', 'AP890323-0248', 'AP890327-0169', 'AP890328-0005', 'AP890328-0177', 'AP890329-0228', 'AP890329-0246', 'AP890405-0037', 'AP890407-0292', 'AP890417-0180', 'AP890420-0280', 'AP890421-0227', 'AP890428-0136', 'AP890510-0185', 'AP890524-0272', 'AP890524-0288', 'AP890524-0311', 'AP890525-0231', 'AP890526-0238', 'AP890530-0031', 'AP890530-0275', 'AP890603-0151', 'AP890605-0147', 'AP890605-0148', 'AP890605-0151', 'AP890605-0154', 'AP890605-0155', 'AP890605-0167', 'AP890606-0118', 'AP890607-0051', 'AP890607-0219', 'AP890607-0230', 'AP890608-0148', 'AP890609-0214', 'AP890627-0221', 'AP890629-0112', 'AP890629-0260', 'AP890704-0076', 'AP890705-0010', 'AP890707-0242', 'AP890707-0243', 'AP890707-0258', 'AP890708-0009', 'AP890708-0146', 'AP890710-0114', 'AP890710-0244', 'AP890710-0256', 'AP890710-0258', 'AP890710-0260', 'AP890710-0265', 'AP890710-0266', 'AP890710-0269', 'AP890710-0271', 'AP890710-0273', 'AP890711-0210', 'AP890711-0224', 'AP890711-0231', 'AP890711-0232', 'AP890711-0233', 'AP890711-0236', 'AP890711-0249', 'AP890712-0054', 'AP890712-0236', 'AP890712-0245', 'AP890720-0261', 'AP890724-0258', 'AP890724-0263', 'AP890727-0295', 'AP890728-0295', 'AP890728-0298', 'AP890729-0153', 'AP890731-0220', 'AP890731-0233', 'AP890731-0240', 'AP890731-0247', 'AP890801-0217', 'AP890801-0224', 'AP890801-0250', 'AP890814-0117', 'AP890815-0225', 'AP890929-0243', 'AP891003-0017', 'AP891005-0253', 'AP891006-0241', 'AP891010-0237', 'AP891107-0020', 'AP891108-0068', 'AP891108-0289', 'AP891109-0264', 'AP891109-0284', 'AP891124-0221', 'AP891125-0143', 'AP891127-0243', 'AP891127-0247', 'AP891127-0250', 'AP891127-0255', 'AP891127-0258', 'AP891127-0264', 'AP891127-0273', 'AP891129-0255', 'AP891129-0289', 'AP891211-0258', 'AP891217-0021', 'AP891218-0016', 'AP891227-0194']) 284\n",
      "\n",
      "With MAP of 7.436148476491475e-05, WORST query 60:\n",
      "\n",
      "  Merit-Pay vs. Seniority \n",
      "\n",
      "relevant docs:\n",
      " dict_keys(['AP880831-0237', 'AP881006-0254', 'AP890224-0269', 'AP890423-0027', 'AP890621-0228', 'AP890703-0030', 'AP890717-0031', 'AP890823-0249', 'AP891118-0087']) 9\n",
      "\n",
      "#######doc2vec########\n",
      "With MAP of 0.2093, BEST query 192:\n",
      "\n",
      "  Oil Spill Cleanup \n",
      "\n",
      "relevant docs:\n",
      " dict_keys(['AP880228-0002', 'AP880229-0120', 'AP880301-0065', 'AP880425-0058', 'AP880428-0065', 'AP880430-0163', 'AP880604-0186', 'AP881227-0053', 'AP890103-0157', 'AP890202-0179', 'AP890203-0041', 'AP890210-0210', 'AP890302-0094', 'AP890303-0087', 'AP890303-0137', 'AP890304-0141', 'AP890325-0029', 'AP890325-0143', 'AP890326-0081', 'AP890327-0092', 'AP890327-0146', 'AP890327-0226', 'AP890328-0106', 'AP890328-0191', 'AP890328-0231', 'AP890329-0094', 'AP890329-0213', 'AP890329-0265', 'AP890404-0008', 'AP890404-0068', 'AP890404-0090', 'AP890404-0143', 'AP890406-0150', 'AP890406-0216', 'AP890406-0241', 'AP890407-0140', 'AP890407-0143', 'AP890407-0169', 'AP890407-0203', 'AP890407-0234', 'AP890407-0243', 'AP890407-0244', 'AP890407-0245', 'AP890408-0031', 'AP890408-0086', 'AP890408-0109', 'AP890410-0025', 'AP890410-0055', 'AP890410-0094', 'AP890410-0120', 'AP890410-0242', 'AP890411-0241', 'AP890412-0009', 'AP890413-0230', 'AP890414-0224', 'AP890414-0235', 'AP890414-0261', 'AP890415-0008', 'AP890415-0107', 'AP890416-0080', 'AP890416-0082', 'AP890417-0277', 'AP890417-0280', 'AP890418-0193', 'AP890418-0228', 'AP890418-0236', 'AP890419-0085', 'AP890419-0183', 'AP890419-0205', 'AP890420-0092', 'AP890421-0047', 'AP890421-0236', 'AP890421-0281', 'AP890422-0024', 'AP890422-0034', 'AP890422-0040', 'AP890422-0113', 'AP890422-0125', 'AP890423-0042', 'AP890423-0071', 'AP890424-0297', 'AP890425-0007', 'AP890425-0122', 'AP890425-0217', 'AP890426-0210', 'AP890427-0156', 'AP890428-0061', 'AP890428-0183', 'AP890429-0032', 'AP890429-0066', 'AP890429-0087', 'AP890430-0052', 'AP890502-0128', 'AP890502-0162', 'AP890502-0188', 'AP890502-0205', 'AP890502-0226', 'AP890503-0215', 'AP890506-0030', 'AP890508-0268', 'AP890508-0291', 'AP890509-0218', 'AP890509-0253', 'AP890509-0278', 'AP890510-0060', 'AP890510-0110', 'AP890510-0154', 'AP890510-0184', 'AP890510-0270', 'AP890511-0037', 'AP890511-0187', 'AP890511-0243', 'AP890512-0194', 'AP890512-0251', 'AP890513-0038', 'AP890513-0132', 'AP890515-0036', 'AP890516-0224', 'AP890519-0229', 'AP890519-0244', 'AP890520-0019', 'AP890520-0074', 'AP890520-0117', 'AP890523-0021', 'AP890605-0157', 'AP890609-0205', 'AP890614-0185', 'AP890619-0215', 'AP890620-0044', 'AP890621-0024', 'AP890621-0222', 'AP890623-0160', 'AP890624-0012', 'AP890624-0021', 'AP890624-0062', 'AP890624-0105', 'AP890624-0120', 'AP890624-0121', 'AP890624-0138', 'AP890625-0004', 'AP890626-0009', 'AP890626-0097', 'AP890626-0107', 'AP890626-0153', 'AP890627-0008', 'AP890627-0018', 'AP890627-0123', 'AP890628-0108', 'AP890628-0206', 'AP890628-0259', 'AP890629-0089', 'AP890629-0096', 'AP890629-0214', 'AP890701-0007', 'AP890705-0086', 'AP890707-0142', 'AP890708-0028', 'AP890718-0081', 'AP890728-0229', 'AP890729-0125', 'AP890806-0006', 'AP890815-0041', 'AP890815-0106', 'AP890817-0053', 'AP890819-0146', 'AP890823-0113', 'AP890909-0143', 'AP890912-0043', 'AP890914-0028', 'AP890914-0211', 'AP890914-0281', 'AP890915-0064', 'AP890915-0194', 'AP890916-0020', 'AP890916-0107', 'AP890916-0167', 'AP890917-0062', 'AP891024-0068', 'AP891109-0255']) 179\n",
      "\n",
      "With MAP of 0.0001, WORST query 136:\n",
      "\n",
      "  Diversification by Pacific Telesis \n",
      "\n",
      "relevant docs:\n",
      " dict_keys(['AP890214-0046', 'AP890214-0242', 'AP890413-0201', 'AP890421-0282', 'AP890428-0233', 'AP890502-0236', 'AP891207-0134', 'AP891207-0220', 'AP891207-0229', 'AP891208-0234']) 10\n",
      "\n",
      "#######lsi_tfidf########\n",
      "With MAP of 0.7179, BEST query 78:\n",
      "\n",
      "  Greenpeace \n",
      "\n",
      "relevant docs:\n",
      " dict_keys(['AP880220-0140', 'AP880227-0056', 'AP880312-0007', 'AP880314-0255', 'AP880330-0162', 'AP880503-0070', 'AP880506-0077', 'AP880506-0104', 'AP880506-0209', 'AP880506-0218', 'AP880507-0151', 'AP880511-0024', 'AP880512-0091', 'AP880518-0131', 'AP880518-0240', 'AP880524-0134', 'AP880524-0258', 'AP880608-0002', 'AP880608-0059', 'AP880610-0037', 'AP880610-0092', 'AP880610-0145', 'AP880610-0241', 'AP880610-0244', 'AP880611-0063', 'AP880611-0153', 'AP880616-0110', 'AP880618-0124', 'AP880621-0239', 'AP880622-0096', 'AP880624-0006', 'AP880624-0204', 'AP880702-0121', 'AP880707-0109', 'AP880712-0186', 'AP880810-0079', 'AP880810-0244', 'AP880811-0133', 'AP880811-0225', 'AP880811-0260', 'AP880818-0194', 'AP880826-0170', 'AP880831-0199', 'AP880901-0020', 'AP880915-0002', 'AP880915-0086', 'AP880918-0002', 'AP880927-0008', 'AP880930-0007', 'AP881006-0200', 'AP881008-0033', 'AP881019-0074', 'AP881021-0206', 'AP881027-0060', 'AP881103-0035', 'AP881108-0043', 'AP881116-0076', 'AP881125-0094', 'AP881125-0118', 'AP881126-0122', 'AP881130-0101', 'AP881214-0023', 'AP890107-0135', 'AP890109-0183', 'AP890110-0157', 'AP890129-0053', 'AP890131-0065', 'AP890201-0085', 'AP890202-0072', 'AP890202-0157', 'AP890213-0082', 'AP890214-0019', 'AP890306-0157', 'AP890307-0028', 'AP890309-0113', 'AP890315-0007', 'AP890319-0050', 'AP890413-0212', 'AP890419-0213', 'AP890424-0069', 'AP890424-0151', 'AP890429-0123', 'AP890501-0127', 'AP890502-0154', 'AP890504-0088', 'AP890504-0183', 'AP890509-0142', 'AP890527-0063', 'AP890612-0017', 'AP890618-0003', 'AP890618-0051', 'AP890618-0076', 'AP890630-0045', 'AP890702-0035', 'AP890710-0080', 'AP890727-0118', 'AP890728-0063', 'AP890729-0035', 'AP890729-0049', 'AP890729-0052', 'AP890729-0118', 'AP890729-0128', 'AP890730-0083', 'AP890731-0032', 'AP890802-0084', 'AP890803-0004', 'AP890808-0158', 'AP890810-0055', 'AP890816-0087', 'AP890816-0166', 'AP890817-0050', 'AP890909-0121', 'AP890921-0116', 'AP891009-0086', 'AP891030-0179', 'AP891115-0091', 'AP891120-0168', 'AP891128-0117', 'AP891130-0041', 'AP891202-0098', 'AP891204-0184', 'AP891205-0073', 'AP891205-0150', 'AP891205-0175', 'AP891212-0135', 'AP891213-0115', 'AP891215-0086', 'AP891215-0121', 'AP891229-0058']) 129\n",
      "\n",
      "With MAP of 0.0003, WORST query 112:\n",
      "\n",
      "  Funding Biotechnology \n",
      "\n",
      "relevant docs:\n",
      " dict_keys(['AP880525-0343', 'AP880617-0176', 'AP880712-0252', 'AP880908-0266', 'AP880915-0227', 'AP881115-0230', 'AP881219-0225', 'AP881219-0227', 'AP890114-0135', 'AP890816-0206', 'AP891003-0232', 'AP891211-0244']) 12\n",
      "\n",
      "#######lsi_bow########\n",
      "With MAP of 0.7586, BEST query 70:\n",
      "\n",
      "  Surrogate Motherhood \n",
      "\n",
      "relevant docs:\n",
      " dict_keys(['AP880213-0175', 'AP880217-0046', 'AP880220-0135', 'AP880302-0093', 'AP880325-0096', 'AP880325-0175', 'AP880328-0076', 'AP880328-0140', 'AP880329-0098', 'AP880329-0160', 'AP880331-0096', 'AP880406-0134', 'AP880406-0180', 'AP880407-0042', 'AP880407-0048', 'AP880409-0094', 'AP880413-0179', 'AP880414-0084', 'AP880423-0169', 'AP880502-0113', 'AP880518-0019', 'AP880523-0129', 'AP880523-0146', 'AP880627-0159', 'AP880628-0057', 'AP880804-0071', 'AP880920-0100', 'AP881029-0092', 'AP881103-0017', 'AP881114-0094', 'AP881114-0180', 'AP881223-0104', 'AP881229-0111', 'AP881230-0016', 'AP890131-0043', 'AP890207-0157', 'AP890307-0204', 'AP890320-0223', 'AP890326-0051', 'AP890407-0225']) 40\n",
      "\n",
      "With MAP of 0.0003, WORST query 112:\n",
      "\n",
      "  Funding Biotechnology \n",
      "\n",
      "relevant docs:\n",
      " dict_keys(['AP880525-0343', 'AP880617-0176', 'AP880712-0252', 'AP880908-0266', 'AP880915-0227', 'AP881115-0230', 'AP881219-0225', 'AP881219-0227', 'AP890114-0135', 'AP890816-0206', 'AP891003-0232', 'AP891211-0244']) 12\n",
      "\n",
      "#######lda_bow########\n",
      "With MAP of 0.7025, BEST query 161:\n",
      "\n",
      "  Acid Rain \n",
      "\n",
      "relevant docs:\n"
     ]
    },
    {
     "name": "stdout",
     "output_type": "stream",
     "text": [
      " dict_keys(['AP880220-0140', 'AP880302-0009', 'AP880309-0222', 'AP880317-0024', 'AP880407-0194', 'AP880414-0086', 'AP880422-0238', 'AP880425-0021', 'AP880425-0111', 'AP880425-0161', 'AP880426-0153', 'AP880427-0006', 'AP880427-0132', 'AP880427-0139', 'AP880427-0212', 'AP880502-0027', 'AP880505-0011', 'AP880515-0032', 'AP880518-0165', 'AP880523-0159', 'AP880527-0036', 'AP880606-0001', 'AP880606-0011', 'AP880606-0098', 'AP880607-0032', 'AP880616-0086', 'AP880627-0092', 'AP880630-0119', 'AP880714-0017', 'AP880722-0209', 'AP880723-0033', 'AP880728-0154', 'AP880801-0158', 'AP880825-0039', 'AP880906-0018', 'AP880908-0026', 'AP880908-0188', 'AP880912-0126', 'AP880919-0020', 'AP880928-0109', 'AP881005-0021', 'AP881005-0280', 'AP881006-0026', 'AP881010-0126', 'AP881011-0221', 'AP881014-0221', 'AP881015-0040', 'AP881030-0100', 'AP881031-0027', 'AP881031-0127', 'AP881101-0147', 'AP881102-0020', 'AP881117-0113', 'AP881121-0147', 'AP881203-0052', 'AP881223-0160', 'AP890101-0043', 'AP890131-0169', 'AP890207-0153', 'AP890210-0133', 'AP890210-0201', 'AP890211-0104', 'AP890227-0261', 'AP890301-0217', 'AP890306-0060', 'AP890307-0213', 'AP890307-0227', 'AP890316-0108', 'AP890322-0203', 'AP890324-0216', 'AP890404-0138', 'AP890407-0241', 'AP890412-0008', 'AP890417-0235', 'AP890421-0191', 'AP890427-0220', 'AP890430-0057', 'AP890503-0066', 'AP890511-0040', 'AP890512-0201', 'AP890525-0080', 'AP890530-0211', 'AP890601-0312', 'AP890608-0090', 'AP890608-0152', 'AP890609-0061', 'AP890609-0173', 'AP890609-0200', 'AP890611-0014', 'AP890612-0097', 'AP890612-0153', 'AP890612-0159', 'AP890613-0023', 'AP890613-0024', 'AP890613-0039', 'AP890613-0089', 'AP890618-0082', 'AP890620-0070', 'AP890620-0075', 'AP890706-0221', 'AP890711-0039', 'AP890712-0156', 'AP890712-0189', 'AP890715-0108', 'AP890716-0013', 'AP890718-0225', 'AP890721-0114', 'AP890721-0178', 'AP890725-0029', 'AP890802-0037', 'AP890803-0089', 'AP890814-0252', 'AP890819-0067', 'AP890831-0031', 'AP890907-0156', 'AP890908-0036', 'AP890911-0030', 'AP890912-0159', 'AP890912-0171', 'AP890913-0047', 'AP890913-0151', 'AP890914-0166', 'AP890919-0120', 'AP890919-0184', 'AP890922-0109', 'AP890922-0158', 'AP890923-0030', 'AP890926-0198', 'AP890927-0022', 'AP891027-0240', 'AP891101-0092', 'AP891115-0023', 'AP891207-0200']) 133\n",
      "\n",
      "With MAP of 0.0, WORST query 170:\n",
      "\n",
      "  The Consequences of Implantation of Silicone Gel Breast Devices \n",
      "\n",
      "relevant docs:\n",
      " dict_keys(['AP881110-0035', 'AP881111-0092', 'AP881123-0037']) 3\n"
     ]
    }
   ],
   "source": [
    "res_per_model = {}\n",
    "\n",
    "for model, fn in best_run_results.items():\n",
    "    with open(fn, \"r\") as f:\n",
    "        res = json.load(f)\n",
    "        res.pop(\"all\", None)\n",
    "        res = {qid:res[qid][\"map\"] for qid in res.keys()}\n",
    "\n",
    "    res_per_model[model] = {\n",
    "        \"best\":max(res.items(), key=operator.itemgetter(1)),\n",
    "        \"worst\":min(res.items(), key=operator.itemgetter(1)),\n",
    "    }\n",
    "\n",
    "for model, stats in res_per_model.items():\n",
    "    best = stats[\"best\"][0]\n",
    "    worst = stats[\"worst\"][0]\n",
    "    \n",
    "    print(\"\\n#######{}########\".format(model))\n",
    "    print(\"With MAP of {}, BEST query {}:\\n\".format(stats[\"best\"][1], best))\n",
    "    print(queries[best])\n",
    "    print(\"relevant docs:\\n\", qrels[best].keys(), len(qrels[best].keys()))\n",
    "    print(\"\\nWith MAP of {}, WORST query {}:\\n\".format(stats[\"worst\"][1], worst))\n",
    "    print(queries[worst])\n",
    "    print(\"relevant docs:\\n\", qrels[worst].keys(), len(qrels[worst].keys()))"
   ]
  },
  {
   "cell_type": "markdown",
   "metadata": {},
   "source": [
    "# AQ 4.7"
   ]
  },
  {
   "cell_type": "markdown",
   "metadata": {},
   "source": [
    "AQ4.7: (5 points) Find the top-5 queries that have the highest variance in terms of MAP\n",
    "between different retrieval models. Provide an analysis why the performance of the models\n",
    "differs a lot on these queries compared to the rest"
   ]
  },
  {
   "cell_type": "code",
   "execution_count": 16,
   "metadata": {},
   "outputs": [],
   "source": [
    "from collections import defaultdict\n",
    "\n",
    "map_per_qid = defaultdict(lambda:{})\n",
    "\n",
    "for model, fn in best_run_results.items():\n",
    "    with open(fn, \"r\") as f:\n",
    "        res = json.load(f)\n",
    "        res.pop(\"all\", None)\n",
    "        res = {qid:res[qid][\"map\"] for qid in res.keys()}\n",
    "\n",
    "    for qid, val in res.items():\n",
    "        map_per_qid[qid][model] = val\n",
    "\n",
    "var_per_qid = {}\n",
    "        \n",
    "for qid, vals in map_per_qid.items():\n",
    "    var_per_qid[qid] = np.var(list(vals.values()))\n",
    "    \n",
    "sorted_vars = [(k, v) for k, v in sorted(var_per_qid.items(), key=lambda item: -item[1])]\n",
    "highest_var = sorted_vars[:5]"
   ]
  },
  {
   "cell_type": "code",
   "execution_count": 18,
   "metadata": {},
   "outputs": [
    {
     "name": "stdout",
     "output_type": "stream",
     "text": [
      "Variance: 0.10407121513101968 Query - 163:   Vietnam Veterans and Agent Orange \n",
      " - 78 relevant docs\n",
      "MAP for model: tfidf - 0.8413\n",
      "MAP for model: word2vec - 0.012819021409994013\n",
      "MAP for model: doc2vec - 0.004\n",
      "MAP for model: lsi_tfidf - 0.6581\n",
      "MAP for model: lsi_bow - 0.6381\n",
      "MAP for model: lda_bow - 0.3581\n",
      "\n",
      "Variance: 0.10140635101143868 Query - 78:   Greenpeace \n",
      " - 129 relevant docs\n",
      "MAP for model: tfidf - 0.7459\n",
      "MAP for model: word2vec - 0.009318313554952337\n",
      "MAP for model: doc2vec - 0.0076\n",
      "MAP for model: lsi_tfidf - 0.7179\n",
      "MAP for model: lsi_bow - 0.3777\n",
      "MAP for model: lda_bow - 0.053\n",
      "\n",
      "Variance: 0.10076965661089904 Query - 117:   Capacity of the U.S. Cellular Telephone Network \n",
      " - 29 relevant docs\n",
      "MAP for model: tfidf - 0.6528\n",
      "MAP for model: word2vec - 0.002150450401871969\n",
      "MAP for model: doc2vec - 0.0009\n",
      "MAP for model: lsi_tfidf - 0.698\n",
      "MAP for model: lsi_bow - 0.007\n",
      "MAP for model: lda_bow - 0.0003\n",
      "\n",
      "Variance: 0.09317729898787656 Query - 70:   Surrogate Motherhood \n",
      " - 40 relevant docs\n",
      "MAP for model: tfidf - 0.2208\n",
      "MAP for model: word2vec - 0.0009053373978042036\n",
      "MAP for model: doc2vec - 0.0004\n",
      "MAP for model: lsi_tfidf - 0.6994\n",
      "MAP for model: lsi_bow - 0.7586\n",
      "MAP for model: lda_bow - 0.4468\n",
      "\n",
      "Variance: 0.08654184063318181 Query - 161:   Acid Rain \n",
      " - 133 relevant docs\n",
      "MAP for model: tfidf - 0.6379\n",
      "MAP for model: word2vec - 0.005041044767017958\n",
      "MAP for model: doc2vec - 0.0033\n",
      "MAP for model: lsi_tfidf - 0.6404\n",
      "MAP for model: lsi_bow - 0.3934\n",
      "MAP for model: lda_bow - 0.7025\n",
      "\n"
     ]
    }
   ],
   "source": [
    "for q, var in highest_var:\n",
    "    print(\"Variance: {} Query - {}: {} - {} relevant docs\".format(var, q, queries[q], len(qrels[q])))\n",
    "    \n",
    "    for model, val in map_per_qid[q].items():\n",
    "        print(\"MAP for model: {} - {}\".format(model, val))\n",
    "    print()"
   ]
  },
  {
   "cell_type": "code",
   "execution_count": null,
   "metadata": {},
   "outputs": [],
   "source": []
  },
  {
   "cell_type": "code",
   "execution_count": null,
   "metadata": {},
   "outputs": [],
   "source": []
  }
 ],
 "metadata": {
  "celltoolbar": "Edit Metadata",
  "kernelspec": {
   "display_name": "Python 3",
   "language": "python",
   "name": "python3"
  },
  "language_info": {
   "codemirror_mode": {
    "name": "ipython",
    "version": 3
   },
   "file_extension": ".py",
   "mimetype": "text/x-python",
   "name": "python",
   "nbconvert_exporter": "python",
   "pygments_lexer": "ipython3",
   "version": "3.6.9"
  }
 },
 "nbformat": 4,
 "nbformat_minor": 2
}
