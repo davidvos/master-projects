{
 "cells": [
  {
   "cell_type": "code",
   "execution_count": 2,
   "metadata": {},
   "outputs": [],
   "source": [
    "import spacy\n",
    "from spacy.symbols import nsubj, VERB\n",
    "from spacy.lang.en.syntax_iterators import noun_chunks"
   ]
  },
  {
   "cell_type": "code",
   "execution_count": 3,
   "metadata": {},
   "outputs": [],
   "source": [
    "with open('data/valid.txt', 'r', encoding=\"utf-8\") as f:\n",
    "    sentences = f.read().splitlines()\n",
    "\n",
    "nlp = spacy.load('nl_core_news_sm')"
   ]
  },
  {
   "cell_type": "code",
   "execution_count": null,
   "metadata": {},
   "outputs": [],
   "source": [
    "    "
   ]
  },
  {
   "cell_type": "code",
   "execution_count": 5,
   "metadata": {},
   "outputs": [
    {
     "name": "stdout",
     "output_type": "stream",
     "text": [
      "Westreenen\n",
      "hem\n",
      "een\n"
     ]
    }
   ],
   "source": [
    "new_dataset = []\n",
    "old_dataset = []\n",
    "for sent_index, sentence in enumerate([sentences[354]]):\n",
    "    try:\n",
    "        old_sentence = sentence\n",
    "        new_sentence = sentence\n",
    "        sentence_doc = nlp(sentence)\n",
    "    \n",
    "        old_sentence = old_sentence.split()\n",
    "        new_sentence = new_sentence.split()\n",
    "        \n",
    "        for token in sentence_doc:\n",
    "            \n",
    "            if token.dep == nsubj and token.head.pos == VERB:\n",
    "                \n",
    "                index1 = new_sentence.index(token.text)\n",
    "                index2 = new_sentence.index(token.head.text)\n",
    "                \n",
    "                child_token_differences = []\n",
    "                for child in token.children:\n",
    "                    print(child)\n",
    "                    child_index = new_sentence.index(child.text)\n",
    "                    child_token_differences.append(index1-child_index)\n",
    "                \n",
    "                if index2 < index1:\n",
    "                    old_dataset.append(old_sentence)\n",
    "                    new_sentence[index1], new_sentence[index2] = new_sentence[index2], new_sentence[index1]\n",
    "                    \n",
    "                for index, child in enumerate(token.children):\n",
    "                    new_sentence.insert(index2 - child_token_differences[index]+1, child.text)\n",
    "                    new_sentence.pop(index1 - child_token_differences[index]+1)\n",
    "                   \n",
    "                if index2 < index1:\n",
    "                    new_dataset.append(new_sentence)                    \n",
    "                \n",
    "                break\n",
    "    except:\n",
    "        continue\n",
    "\n",
    "with open('data/subject-verb-inverse.txt', 'a') as the_file:\n",
    "    for sentence in new_dataset:\n",
    "        the_file.write(' '.join(sentence)+'\\n')\n",
    "\n",
    "with open('data/original-subject-verb-inverse.txt', 'a') as the_file:\n",
    "    for sentence in old_dataset:\n",
    "        the_file.write(' '.join(sentence)+'\\n')\n",
    "    \n",
    "    \n",
    "    \n"
   ]
  },
  {
   "cell_type": "code",
   "execution_count": null,
   "metadata": {},
   "outputs": [],
   "source": []
  }
 ],
 "metadata": {
  "kernelspec": {
   "display_name": "Python 3",
   "language": "python",
   "name": "python3"
  },
  "language_info": {
   "codemirror_mode": {
    "name": "ipython",
    "version": 3
   },
   "file_extension": ".py",
   "mimetype": "text/x-python",
   "name": "python",
   "nbconvert_exporter": "python",
   "pygments_lexer": "ipython3",
   "version": "3.7.7"
  }
 },
 "nbformat": 4,
 "nbformat_minor": 4
}
