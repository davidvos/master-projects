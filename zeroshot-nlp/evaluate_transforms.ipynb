{
 "cells": [
  {
   "cell_type": "code",
   "execution_count": 1,
   "metadata": {},
   "outputs": [],
   "source": [
    "from transformers import BertForMaskedLM, BertTokenizer\n",
    "import torch\n",
    "import polyglot\n",
    "from polyglot.text import Text, Word\n",
    "from word2word import Word2word\n",
    "from embedding_transform import EmbeddingTransform\n",
    "\n",
    "import matplotlib.pyplot as plt\n",
    "\n",
    "import argparse\n",
    "import os\n",
    "import pickle\n",
    "import numpy as np\n",
    "from tqdm import tqdm\n",
    "from collections import Counter\n",
    "import json\n",
    "# import nltk\n",
    "\n",
    "#DEVICE = \"cuda\" if torch.cuda.is_available() else \"cpu\"\n",
    "DEVICE = \"cpu\""
   ]
  },
  {
   "cell_type": "code",
   "execution_count": 2,
   "metadata": {},
   "outputs": [],
   "source": [
    "nl2en = Word2word(\"nl\", \"en\")"
   ]
  },
  {
   "cell_type": "code",
   "execution_count": 3,
   "metadata": {},
   "outputs": [
    {
     "name": "stderr",
     "output_type": "stream",
     "text": [
      "d:\\david\\miniconda3\\lib\\site-packages\\ipykernel_launcher.py:14: UserWarning: To copy construct from a tensor, it is recommended to use sourceTensor.clone().detach() or sourceTensor.clone().detach().requires_grad_(True), rather than torch.tensor(sourceTensor).\n",
      "  \n",
      "d:\\david\\miniconda3\\lib\\site-packages\\ipykernel_launcher.py:15: UserWarning: To copy construct from a tensor, it is recommended to use sourceTensor.clone().detach() or sourceTensor.clone().detach().requires_grad_(True), rather than torch.tensor(sourceTensor).\n",
      "  from ipykernel import kernelapp as app\n",
      "d:\\david\\miniconda3\\lib\\site-packages\\ipykernel_launcher.py:19: UserWarning: To copy construct from a tensor, it is recommended to use sourceTensor.clone().detach() or sourceTensor.clone().detach().requires_grad_(True), rather than torch.tensor(sourceTensor).\n",
      "d:\\david\\miniconda3\\lib\\site-packages\\ipykernel_launcher.py:20: UserWarning: To copy construct from a tensor, it is recommended to use sourceTensor.clone().detach() or sourceTensor.clone().detach().requires_grad_(True), rather than torch.tensor(sourceTensor).\n"
     ]
    }
   ],
   "source": [
    "with open('data/filtered_en_nl_dict.txt', 'r', encoding=\"utf-8\") as f:\n",
    "    lines = f.read().splitlines()\n",
    "    en_words_to_embed = [words.split('\\t')[1] for words in lines]\n",
    "    nl_words_to_embed = [words.split('\\t')[0] for words in lines]\n",
    "\n",
    "save_fn = \"./models/stored_embeddings-all.pkl\"    \n",
    "with open(save_fn, \"rb\") as f:\n",
    "    fc = pickle.load(f)\n",
    "    english_embeddings = fc[\"eng_emb\"]\n",
    "    dutch_embeddings = fc[\"dut_emb\"]\n",
    "    \n",
    "split = int(len(dutch_embeddings)*0.8)\n",
    "\n",
    "train_src_embeds = torch.tensor(dutch_embeddings[:split], requires_grad=False, device=DEVICE)\n",
    "train_trg_embeds = torch.tensor(english_embeddings[:split], requires_grad=False, device=DEVICE)\n",
    "train_src_words = nl_words_to_embed[:split]\n",
    "train_trg_words = en_words_to_embed[:split]\n",
    "\n",
    "test_src_embeds = torch.tensor(dutch_embeddings[split:], requires_grad=False, device=DEVICE)\n",
    "test_trg_embeds = torch.tensor(english_embeddings[split:], requires_grad=False, device=DEVICE)\n",
    "test_src_words = nl_words_to_embed[split:]\n",
    "test_trg_words = en_words_to_embed[split:]"
   ]
  },
  {
   "cell_type": "code",
   "execution_count": 4,
   "metadata": {},
   "outputs": [],
   "source": [
    "def calculate_prediction_acc(transform, source_embeds, target_embeds):\n",
    "    correct_words = 0\n",
    "    \n",
    "    sims = torch.cdist(source_embeds @ transform, target_embeds)\n",
    "    \n",
    "    best_sims = torch.argmin(sims, dim=1)\n",
    "    \n",
    "    for src_idx, trg_idx in enumerate(best_sims):\n",
    "        if src_idx == trg_idx:\n",
    "            correct_words += 1\n",
    "\n",
    "    return correct_words / len(source_embeds)\n"
   ]
  },
  {
   "cell_type": "code",
   "execution_count": 5,
   "metadata": {},
   "outputs": [
    {
     "name": "stdout",
     "output_type": "stream",
     "text": [
      "early stopping condition reached\n"
     ]
    }
   ],
   "source": [
    "transform = torch.zeros((256, 768), requires_grad=True, device=DEVICE)\n",
    "torch.nn.init.xavier_uniform_(transform)\n",
    "optim = torch.optim.Adam((transform,), lr=0.001)\n",
    "loss_fn = torch.nn.MSELoss().to(DEVICE)\n",
    "\n",
    "targets = train_trg_embeds.clone().to(DEVICE)\n",
    "samples = train_src_embeds.clone().to(DEVICE)\n",
    "\n",
    "batch_size = 32\n",
    "\n",
    "losses = []\n",
    "train_accs = []\n",
    "test_accs = []\n",
    "\n",
    "for ep in range(1000):\n",
    "\n",
    "    shf = torch.randperm(samples.shape[0])\n",
    "\n",
    "    samples = samples[shf]\n",
    "    targets = targets[shf]\n",
    "\n",
    "    tot_loss = 0\n",
    "    for b_start in range(0, samples.shape[0], batch_size):\n",
    "\n",
    "        optim.zero_grad()\n",
    "\n",
    "        batch_inputs = samples[b_start:b_start+batch_size, :].clone().detach()\n",
    "        batch_targets = targets[b_start:b_start+batch_size, :].clone().detach()\n",
    "\n",
    "        batch_outputs = batch_inputs @ transform\n",
    "\n",
    "        loss = loss_fn(batch_outputs, batch_targets)\n",
    "        loss.backward()\n",
    "        optim.step()\n",
    "\n",
    "        tot_loss += loss.item()\n",
    "\n",
    "    losses.append(tot_loss)\n",
    "\n",
    "    if len(losses) > 10 and np.mean(losses[-10:]) < np.mean(losses[-4:]):\n",
    "        print(\"early stopping condition reached\")\n",
    "        break\n",
    "    \n",
    "    #print(f\"epoch: {ep} loss: {tot_loss}\")\n",
    "    train_acc = calculate_prediction_acc(transform, train_src_embeds, train_trg_embeds)\n",
    "    test_acc = calculate_prediction_acc(transform, test_src_embeds, test_trg_embeds)\n",
    "    train_accs.append(train_acc)\n",
    "    test_accs.append(test_acc)\n",
    "    #print(f\"train accuracy: {train_acc} test accuracy: {test_acc}\")\n",
    "\n"
   ]
  },
  {
   "cell_type": "code",
   "execution_count": 6,
   "metadata": {},
   "outputs": [],
   "source": [
    "XX = train_src_embeds.T @ train_trg_embeds\n",
    "XX_ = train_trg_embeds.T @ train_src_embeds\n",
    "U, _, V = torch.svd(XX)\n",
    "U_, _, V_ = torch.svd(XX_)\n",
    "\n",
    "transform = V_ @ U_.T\n",
    "\n",
    "tra_acc_svd = calculate_prediction_acc(transform, train_src_embeds, train_trg_embeds)\n",
    "val_acc_svd = calculate_prediction_acc(transform, test_src_embeds, test_trg_embeds)"
   ]
  },
  {
   "cell_type": "code",
   "execution_count": 29,
   "metadata": {},
   "outputs": [
    {
     "data": {
      "image/png": "[encoded data removed]",
      "text/plain": [
       "<Figure size 288x360 with 1 Axes>"
      ]
     },
     "metadata": {
      "needs_background": "light"
     },
     "output_type": "display_data"
    }
   ],
   "source": [
    "plt.rcParams[\"figure.figsize\"] = (4, 5)\n",
    "\n",
    "sgdcolor = 'orange'\n",
    "svdcolor = 'green'\n",
    "\n",
    "plt.plot(train_accs, '--', label=\"SGD train accuracy\", color=sgdcolor)\n",
    "plt.plot(test_accs, label=\"SGD test accuracy\", color=sgdcolor)\n",
    "plt.hlines(tra_acc_svd, 0, len(train_accs), linestyles='--', label=\"SVD train accuracy\", color=svdcolor)\n",
    "plt.hlines(val_acc_svd, 0, len(train_accs), label=\"SVD test accuracy\", color=svdcolor)\n",
    "plt.legend()\n",
    "plt.xlabel(\"epochs\")\n",
    "plt.ylabel(\"accuracy (based on cosine similarity)\")\n",
    "plt.title(\"SGD & SVD transform accuracy\")\n",
    "plt.savefig(\"./figures/transform_accuracy.png\", bbox_inches='tight')\n",
    "plt.show()"
   ]
  },
  {
   "cell_type": "code",
   "execution_count": 38,
   "metadata": {},
   "outputs": [
    {
     "name": "stdout",
     "output_type": "stream",
     "text": [
      "0.8926829268292683\n",
      "0.3246753246753247\n"
     ]
    }
   ],
   "source": []
  },
  {
   "cell_type": "code",
   "execution_count": null,
   "metadata": {},
   "outputs": [],
   "source": []
  }
 ],
 "metadata": {
  "kernelspec": {
   "display_name": "Python 3",
   "language": "python",
   "name": "python3"
  },
  "language_info": {
   "codemirror_mode": {
    "name": "ipython",
    "version": 3
   },
   "file_extension": ".py",
   "mimetype": "text/x-python",
   "name": "python",
   "nbconvert_exporter": "python",
   "pygments_lexer": "ipython3",
   "version": "3.7.0"
  }
 },
 "nbformat": 4,
 "nbformat_minor": 2
}
